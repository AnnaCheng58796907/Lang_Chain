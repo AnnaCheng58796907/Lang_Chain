{
 "cells": [
  {
   "cell_type": "code",
   "execution_count": 5,
   "id": "0cfaf4fa",
   "metadata": {},
   "outputs": [
    {
     "name": "stdout",
     "output_type": "stream",
     "text": [
      "向量資料庫已經存在,不需要初始化\n"
     ]
    }
   ],
   "source": [
    "import os\n",
    "from langchain_community.document_loaders import TextLoader\n",
    "from langchain.text_splitter import CharacterTextSplitter\n",
    "from langchain_huggingface import HuggingFaceEmbeddings\n",
    "from langchain_chroma import Chroma\n",
    "import chromadb\n",
    "\n",
    "current_dir = os.path.dirname(os.path.abspath(\"__file__\"))\n",
    "file_path = os.path.join(current_dir, \"books\", \"智慧型手機使用手冊.txt\")\n",
    "persistent_directory = os.path.join(current_dir, \"db\", \"chroma_db_v3\")\n",
    "try:\n",
    "    if not os.path.exists(persistent_directory):\n",
    "        if not os.path.exists(file_path):\n",
    "            raise FileNotFoundError(\n",
    "                f\"檔案{file_path}不存在,請檢查路徑\"\n",
    "            )\n",
    "\n",
    "        loader = TextLoader(file_path=file_path,encoding='utf-8')\n",
    "        documents = loader.load()\n",
    "        text_splitter = CharacterTextSplitter(chunk_size=500, chunk_overlap=200)\n",
    "        docs = text_splitter.split_documents(documents)\n",
    "        #print(len(docs))\n",
    "        #print(docs[0].page_content)\n",
    "        embeddings = HuggingFaceEmbeddings(\n",
    "            model_name=\"BAAI/bge-m3\"\n",
    "        )\n",
    "\n",
    "        client = chromadb.PersistentClient(path=persistent_directory)\n",
    "        db = Chroma.from_documents(\n",
    "            docs,\n",
    "            embedding=embeddings,\n",
    "            client = client,\n",
    "            collection_name=\"smartphone_manual\"\n",
    "        )\n",
    "\n",
    "\n",
    "\n",
    "\n",
    "    else:\n",
    "        print(\"向量資料庫已經存在,不需要初始化\")\n",
    "except Exception as error:\n",
    "    print(error)"
   ]
  },
  {
   "cell_type": "code",
   "execution_count": 6,
   "id": "21912346",
   "metadata": {},
   "outputs": [
    {
     "name": "stderr",
     "output_type": "stream",
     "text": [
      "Exception ignored in: <function tqdm.__del__ at 0x000001B384533250>\n",
      "Traceback (most recent call last):\n",
      "  File \"d:\\GitHub\\Lang_Chain\\.venv\\lib\\site-packages\\tqdm\\std.py\", line 1148, in __del__\n",
      "    self.close()\n",
      "  File \"d:\\GitHub\\Lang_Chain\\.venv\\lib\\site-packages\\tqdm\\notebook.py\", line 279, in close\n",
      "    self.disp(bar_style='danger', check_delay=False)\n",
      "AttributeError: 'tqdm' object has no attribute 'disp'\n"
     ]
    },
    {
     "ename": "NameError",
     "evalue": "name 'docs' is not defined",
     "output_type": "error",
     "traceback": [
      "\u001b[1;31m---------------------------------------------------------------------------\u001b[0m",
      "\u001b[1;31mNameError\u001b[0m                                 Traceback (most recent call last)",
      "Cell \u001b[1;32mIn[6], line 9\u001b[0m\n\u001b[0;32m      3\u001b[0m embeddings \u001b[38;5;241m=\u001b[39m HuggingFaceEmbeddings(\n\u001b[0;32m      4\u001b[0m             model_name\u001b[38;5;241m=\u001b[39m\u001b[38;5;124m\"\u001b[39m\u001b[38;5;124mBAAI/bge-m3\u001b[39m\u001b[38;5;124m\"\u001b[39m\n\u001b[0;32m      5\u001b[0m         )\n\u001b[0;32m      7\u001b[0m client \u001b[38;5;241m=\u001b[39m chromadb\u001b[38;5;241m.\u001b[39mPersistentClient(path\u001b[38;5;241m=\u001b[39mpersistent_directory)\n\u001b[0;32m      8\u001b[0m db \u001b[38;5;241m=\u001b[39m Chroma\u001b[38;5;241m.\u001b[39mfrom_documents(\n\u001b[1;32m----> 9\u001b[0m             \u001b[43mdocs\u001b[49m,\n\u001b[0;32m     10\u001b[0m             embedding\u001b[38;5;241m=\u001b[39membeddings,\n\u001b[0;32m     11\u001b[0m             client \u001b[38;5;241m=\u001b[39m client,\n\u001b[0;32m     12\u001b[0m             collection_name\u001b[38;5;241m=\u001b[39m\u001b[38;5;124m\"\u001b[39m\u001b[38;5;124msmartphone_manual\u001b[39m\u001b[38;5;124m\"\u001b[39m\n\u001b[0;32m     13\u001b[0m         )\n\u001b[0;32m     15\u001b[0m retriever \u001b[38;5;241m=\u001b[39m db\u001b[38;5;241m.\u001b[39mas_retriever(\n\u001b[0;32m     16\u001b[0m     search_type\u001b[38;5;241m=\u001b[39m\u001b[38;5;124m\"\u001b[39m\u001b[38;5;124msimilarity\u001b[39m\u001b[38;5;124m\"\u001b[39m,\n\u001b[0;32m     17\u001b[0m     search_kwargs\u001b[38;5;241m=\u001b[39m{\u001b[38;5;124m\"\u001b[39m\u001b[38;5;124mk\u001b[39m\u001b[38;5;124m\"\u001b[39m: \u001b[38;5;241m3\u001b[39m}\n\u001b[0;32m     18\u001b[0m )\n\u001b[0;32m     20\u001b[0m relevant_docs \u001b[38;5;241m=\u001b[39m retriever\u001b[38;5;241m.\u001b[39minvoke(query)\n",
      "\u001b[1;31mNameError\u001b[0m: name 'docs' is not defined"
     ]
    }
   ],
   "source": [
    "query = \"請手機硬體規格如何?\"\n",
    "\n",
    "embeddings = HuggingFaceEmbeddings(\n",
    "            model_name=\"BAAI/bge-m3\"\n",
    "        )\n",
    "\n",
    "client = chromadb.PersistentClient(path=persistent_directory)\n",
    "db = Chroma.from_documents(\n",
    "            docs,\n",
    "            embedding=embeddings,\n",
    "            client = client,\n",
    "            collection_name=\"smartphone_manual\"\n",
    "        )\n",
    "\n",
    "retriever = db.as_retriever(\n",
    "    search_type=\"similarity\",\n",
    "    search_kwargs={\"k\": 3}\n",
    ")\n",
    "\n",
    "relevant_docs = retriever.invoke(query)\n",
    "for doc in relevant_docs:\n",
    "    print(doc.page_content)\n",
    "    print(\"=\" * 60)"
   ]
  }
 ],
 "metadata": {
  "kernelspec": {
   "display_name": ".venv",
   "language": "python",
   "name": "python3"
  },
  "language_info": {
   "codemirror_mode": {
    "name": "ipython",
    "version": 3
   },
   "file_extension": ".py",
   "mimetype": "text/x-python",
   "name": "python",
   "nbconvert_exporter": "python",
   "pygments_lexer": "ipython3",
   "version": "3.10.18"
  }
 },
 "nbformat": 4,
 "nbformat_minor": 5
}
