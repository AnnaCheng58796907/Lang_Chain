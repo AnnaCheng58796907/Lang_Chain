{
 "cells": [
  {
   "cell_type": "markdown",
   "id": "2f9ecdd9",
   "metadata": {},
   "source": [
    "### chromadb\n",
    "* model:BAAI/bge-m3"
   ]
  },
  {
   "cell_type": "code",
   "execution_count": null,
   "id": "da85382d",
   "metadata": {},
   "outputs": [],
   "source": [
    "import os\n",
    "from langchain_community.document_loaders import TextLoader\n",
    "from langchain_text_splitters import CharacterTextSplitter\n",
    "from langchain_huggingface import HuggingFaceEmbeddings\n",
    "from langchain_chroma import Chroma\n",
    "import chromadb\n",
    "\n",
    "# current_dir = os.getcwd()\n",
    "current_dir = os.path.dirname(os.path.abspath(\"__file__\"))\n",
    "file_path = os.path.join(current_dir, \"books\", \"智慧型手機使用手冊.txt\")\n",
    "persistent_directory = os.path.join(current_dir, \"db\", \"chroma_db_v3\")\n",
    "\n",
    "try:\n",
    "    if not os.path.exists(persistent_directory):\n",
    "        if not os.path.exists(file_path):\n",
    "            raise FileNotFoundError(\n",
    "                f\"檔案{file_path}不存在,請檢查路徑!\"\n",
    "            )\n",
    "        print(\"檔案正確\")\n",
    "        # loader = TextLoader(file_path=file_path, encoding=\"utf-8\")\n",
    "        # documents = loader.load()\n",
    "        # text_splitter = CharacterTextSplitter(chunk_size=500, chunk_overlap=200)\n",
    "        # docs = text_splitter.split_documents(documents)\n",
    "        # embeddings = HuggingFaceEmbeddings(\n",
    "        #     model_name=\"BAAI/bge-m3\"\n",
    "        # )\n",
    "\n",
    "        # client = chromadb.PersistentClient(path=persistent_directory)\n",
    "        # Chroma.from_documents(\n",
    "        #     docs,\n",
    "        #     embedding=embeddings,\n",
    "        #     client = client,\n",
    "        #     collection_name=\"smartphone_manual\"\n",
    "        # )\n",
    "    else:\n",
    "        print(\"向量資料庫已經存在，不需要初始化!\")\n",
    "except Exception as error:\n",
    "    print(error)\n"
   ]
  },
  {
   "cell_type": "code",
   "execution_count": null,
   "id": "48a58a58",
   "metadata": {},
   "outputs": [],
   "source": [
    "query = \"請手機硬體規格如何?\"\n",
    "retriever = db.as_retriever(\n",
    "    search_type=\"similarity\",\n",
    "    search_kwargs={\"k\": 3}\n",
    ")\n",
    "\n",
    "relevant_docs = retriever.invoke(query)\n",
    "for doc in relevant_docs:\n",
    "    print(doc.page_content)\n",
    "    print(\"=\" * 60)"
   ]
  }
 ],
 "metadata": {
  "kernelspec": {
   "display_name": ".venv",
   "language": "python",
   "name": "python3"
  },
  "language_info": {
   "codemirror_mode": {
    "name": "ipython",
    "version": 3
   },
   "file_extension": ".py",
   "mimetype": "text/x-python",
   "name": "python",
   "nbconvert_exporter": "python",
   "pygments_lexer": "ipython3",
   "version": "3.10.18"
  }
 },
 "nbformat": 4,
 "nbformat_minor": 5
}
