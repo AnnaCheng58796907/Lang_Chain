{
 "cells": [
  {
   "cell_type": "code",
   "execution_count": 3,
   "id": "c72675f9",
   "metadata": {},
   "outputs": [],
   "source": [
    "from langchain.prompts import ChatPromptTemplate\n",
    "from langchain_ollama import OllamaLLM\n",
    "from langchain.schema.output_parser import StrOutputParser\n",
    "\n",
    "\n"
   ]
  },
  {
   "cell_type": "code",
   "execution_count": 4,
   "id": "e8e5552f",
   "metadata": {},
   "outputs": [],
   "source": [
    "model = OllamaLLM(\n",
    "    model=\"gemma3:4b\",\n",
    "    temperature=0.7,\n",
    "    top_p=0.9\n",
    "    )\n",
    "    "
   ]
  },
  {
   "cell_type": "code",
   "execution_count": 5,
   "id": "5b39a100",
   "metadata": {},
   "outputs": [],
   "source": [
    "prompt = ChatPromptTemplate.from_template(\n",
    "    \"\"\"你是一位專業的{role},請用{style}的風格來介紹{topic}。\n",
    "    要求:\n",
    "    1. 內容要準確且易懂\n",
    "    2. 長度控制在200字內\n",
    "    3. 使用繁體中文回答\n",
    "\n",
    "    請開始介紹:\n",
    "    \"\"\"\n",
    ")"
   ]
  },
  {
   "cell_type": "code",
   "execution_count": 7,
   "id": "cb458895",
   "metadata": {},
   "outputs": [
    {
     "name": "stdout",
     "output_type": "stream",
     "text": [
      "好的，沒問題！\n",
      "\n",
      "深度學習是機器學習的一個分支，它受到人腦神經網路的啟發。簡單來說，它利用人工神經網路，讓電腦能夠學習並提取數據中的複雜模式。\n",
      "\n",
      "**核心概念：**\n",
      "\n",
      "*   **神經網路：** 由多層互連的節點組成，模擬人腦的資訊處理方式。\n",
      "*   **深度：** 指的是神經網路的層數越多，稱為越“深”。深度讓模型可以學習到更抽象、更複雜的特徵。\n",
      "*   **學習方式：** 透過大量數據進行訓練，調整網路的參數，讓模型能夠準確預測或分類。\n",
      "\n",
      "**應用領域：**\n",
      "\n",
      "深度學習在圖像識別、語音辨識、自然語言處理等領域表現出色，並在自動駕駛、醫療診斷等領域展現巨大潛力。\n",
      "\n",
      "希望這個簡短介紹對您有所幫助！\n",
      "\n"
     ]
    }
   ],
   "source": [
    "chain = (prompt | model | StrOutputParser())\n",
    "result = chain.invoke(\n",
    "    {\n",
    "        \"role\":\"AI 專家\",\n",
    "        \"style\":\"簡潔明瞭\",\n",
    "        \"topic\":\"深度學習\"\n",
    "    }\n",
    ")\n",
    "print(result)"
   ]
  }
 ],
 "metadata": {
  "kernelspec": {
   "display_name": ".venv",
   "language": "python",
   "name": "python3"
  },
  "language_info": {
   "codemirror_mode": {
    "name": "ipython",
    "version": 3
   },
   "file_extension": ".py",
   "mimetype": "text/x-python",
   "name": "python",
   "nbconvert_exporter": "python",
   "pygments_lexer": "ipython3",
   "version": "3.10.18"
  }
 },
 "nbformat": 4,
 "nbformat_minor": 5
}
