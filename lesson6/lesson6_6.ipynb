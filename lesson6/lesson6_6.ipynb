{
 "cells": [
  {
   "cell_type": "code",
   "execution_count": 13,
   "id": "510cc4a2",
   "metadata": {},
   "outputs": [],
   "source": [
    "# 導入必要的套件\n",
    "from langchain.prompts import ChatPromptTemplate\n",
    "from langchain.schema.output_parser import StrOutputParser\n",
    "from langchain.schema.runnable import RunnableParallel, RunnableLambda\n",
    "from langchain_ollama import ChatOllama\n",
    "\n",
    "# 建立 Ollama 模型\n",
    "\"\"\"\n",
    "ChatOllama 支援聊天提示和多輪對話，比較適合多輪交互；\n",
    "而 OllamaLLM 主要用於單輸入單輸出，較簡單的應用。\n",
    "語法和功能不同，ChatOllama 比較適合現在這種聊天場景。\n",
    "\"\"\"\n",
    "model = ChatOllama(\n",
    "    model=\"gemma3:4b\",\n",
    "    temperature=0.7\n",
    ")\n"
   ]
  },
  {
   "cell_type": "code",
   "execution_count": 14,
   "id": "badb3378",
   "metadata": {},
   "outputs": [],
   "source": [
    "# 定義主要的提示模板 - 餐廳評論分析\n",
    "prompt_template = ChatPromptTemplate.from_messages(\n",
    "    [\n",
    "        (\"system\", \"你是一個專業的餐廳評論家，擅長分析餐廳的優缺點。\"),\n",
    "        (\"human\", \"請分析這家餐廳：{restaurant_name}\"),\n",
    "    ]\n",
    ")"
   ]
  },
  {
   "cell_type": "code",
   "execution_count": 15,
   "id": "b0f754de",
   "metadata": {},
   "outputs": [],
   "source": [
    "pros_template = ChatPromptTemplate.from_messages(\n",
    "        [\n",
    "            (\"system\", \"你是一個專業的餐廳評論家，專門分析餐廳的優點。\"),\n",
    "            (\"human\", \"根據餐廳資訊：{restaurant_info}，請列出這家餐廳的優點。\"),\n",
    "        ]\n",
    "    )\n",
    "\n",
    "# 使用 LCEL 簡化分支鏈的建立\n",
    "# 優點分析分支\n",
    "pros_branch_chain = (\n",
    "    pros_template \n",
    "    | model \n",
    "    | StrOutputParser()\n",
    ")"
   ]
  },
  {
   "cell_type": "code",
   "execution_count": 16,
   "id": "6107f529",
   "metadata": {},
   "outputs": [],
   "source": [
    "cons_template = ChatPromptTemplate.from_messages(\n",
    "        [\n",
    "            (\"system\", \"你是一個專業的餐廳評論家，專門分析餐廳的缺點。\"),\n",
    "            (\"human\", \"根據餐廳資訊：{restaurant_info}，請列出這家餐廳的缺點。\"),\n",
    "        ]\n",
    "    )\n",
    "\n",
    "# 缺點分析分支\n",
    "cons_branch_chain = (\n",
    "    cons_template\n",
    "    | model\n",
    "    | StrOutputParser()\n",
    ")"
   ]
  },
  {
   "cell_type": "code",
   "execution_count": 17,
   "id": "a7222d85",
   "metadata": {},
   "outputs": [
    {
     "name": "stdout",
     "output_type": "stream",
     "text": [
      "結果合併函數已定義：combine_pros_cons\n"
     ]
    }
   ],
   "source": [
    "# 定義結果合併函數\n",
    "def combine_pros_cons(pros, cons):\n",
    "    \"\"\"將優點和缺點合併成最終評論\"\"\"\n",
    "    return f\"\"\"\n",
    "🍽️ 餐廳評論分析報告\n",
    "{'='*50}\n",
    "\n",
    "✅ 優點分析：\n",
    "{pros}\n",
    "\n",
    "❌ 缺點分析：\n",
    "{cons}\n",
    "\n",
    "📊 總結：這是一個平衡的餐廳評論分析\n",
    "\"\"\"\n",
    "\n",
    "print(\"結果合併函數已定義：combine_pros_cons\")"
   ]
  },
  {
   "cell_type": "code",
   "execution_count": 18,
   "id": "900550c6",
   "metadata": {},
   "outputs": [],
   "source": [
    "chain = (\n",
    "    prompt_template\n",
    "    | model\n",
    "    | StrOutputParser()\n",
    "    | RunnableLambda(lambda x:{\"restaurant_info\":x})\n",
    "    | RunnableParallel(\n",
    "        pros = pros_branch_chain,\n",
    "        cons = cons_branch_chain\n",
    "    )\n",
    "    | RunnableLambda(lambda x:combine_pros_cons(x['pros'],x['cons']))\n",
    ")"
   ]
  },
  {
   "cell_type": "code",
   "execution_count": 19,
   "id": "bb212455",
   "metadata": {},
   "outputs": [
    {
     "name": "stdout",
     "output_type": "stream",
     "text": [
      "\n",
      "🍽️ 餐廳評論分析報告\n",
      "==================================================\n",
      "\n",
      "✅ 優點分析：\n",
      "好的，請提供餐廳資訊，我會根據這些資訊來分析餐廳的優點。\n",
      "\n",
      "假設餐廳名稱是 **“La Piazza”**，菜單價格範圍如下：\n",
      "\n",
      "*   前菜：NT$400-600\n",
      "*   義大利麵：NT$700-900\n",
      "*   披薩：NT$800-1000\n",
      "*   海鮮料理：NT$1000-1500\n",
      "*   甜點：NT$300-500\n",
      "\n",
      "用餐氛圍：輕鬆、浪漫，搭配輕音樂和昏黃燈光，適合情侶約會或朋友聚餐。\n",
      "\n",
      "特殊特色：La Piazza 使用台灣在地的新鮮海鮮，並提供季節限定的特色菜色。\n",
      "\n",
      "**根據以上資訊，La Piazza 的優點分析如下：**\n",
      "\n",
      "**優點：**\n",
      "\n",
      "*   **高品質的食材：** La Piazza 強調使用台灣在地的新鮮海鮮，這在台北市中心提供義式料理的餐廳中是顯著的優勢。這種強調本地食材的策略，能讓顧客感受到食材的新鮮度和品質，提升整體用餐體驗。\n",
      "*   **浪漫的用餐氛圍：** 餐廳的裝潢和佈置，搭配輕音樂和昏黃燈光，營造出輕鬆浪漫的用餐氛圍，非常適合情侶約會或朋友聚餐，滿足顧客對特殊場合用餐的期待。\n",
      "*   **精緻的菜色選擇：** 菜單提供多樣化的選擇，包含經典的義大利麵、披薩，以及以台灣海鮮為主題的特色料理，滿足不同顧客的口味偏好。\n",
      "*   **強調季節限定菜色：** 採用季節限定菜色，能帶來新鮮感和話題性，也讓顧客有機會品嚐到獨一無二的美味，增加用餐的樂趣。\n",
      "*   **位於市中心便利地點：** 餐廳位於市中心，交通便利，方便顧客前往。\n",
      "\n",
      "總體而言，La Piazza 在食材、環境、菜色選擇和便利的地點方面都表現出色，為顧客提供了一次優質的義式料理體驗。\n",
      "\n",
      "\n",
      "❌ 缺點分析：\n",
      "好的，我來提供一些資訊，以便更精準地分析餐廳的缺點。\n",
      "\n",
      "**餐廳名稱：** La Piazza (意為「廣場」)\n",
      "\n",
      "**菜單價格範圍：**\n",
      "\n",
      "*   前菜 (Antipasto)：NT$480 - NT$780\n",
      "*   義大利麵 (Pasta)：NT$780 - NT$1280\n",
      "*   披薩 (Pizza)：NT$880 - NT$1480\n",
      "*   海鮮料理 (Pesce)：NT$1280 - NT$2280\n",
      "*   甜點 (Dolci)：NT$380 - NT$680\n",
      "\n",
      "**主要菜色：**\n",
      "\n",
      "*   經典義式披薩 (Margherita, Pepperoni, Quattro Formaggi)\n",
      "*   各種義大利麵 (Spaghetti, Fettuccine, Lasagna)\n",
      "*   海鮮烤魚 (Branzola)\n",
      "*   燉菜 (Ragu)\n",
      "*   海鮮義大利麵 (Linguine alle Vongole)\n",
      "\n",
      "**用餐氛圍：** 比較浪漫、適合情侶約會或小型聚餐，但因為位置相對狹窄，高峰期用餐時段用餐氣氛會稍微熱鬧一些，但可能略顯擁擠。\n",
      "\n",
      "**是否有其他特殊特色？**\n",
      "\n",
      "*   餐廳提供每日新鮮現做義大利麵 (需事先預訂)\n",
      "*   提供自家製的義大利紅酒\n",
      "\n",
      "---\n",
      "\n",
      "**根據以上資訊，請針對 La Piazza 餐廳進行分析，重點列出餐廳的缺點。**\n",
      "\n",
      "\n",
      "📊 總結：這是一個平衡的餐廳評論分析\n",
      "\n"
     ]
    }
   ],
   "source": [
    "# 執行並行處理鏈 - 測試餐廳評論分析系統\n",
    "restaurant_info = \"\"\"\n",
    "這是一家位於台北市中心的義大利餐廳，提供傳統義式料理。\n",
    "餐廳環境優雅，服務人員親切，但價格偏高，等待時間較長。\n",
    "食物品質不錯，但份量偏少。適合約會或特殊場合用餐。\n",
    "\"\"\"\n",
    "\n",
    "result = chain.invoke({\"restaurant_name\": restaurant_info})\n",
    "\n",
    "print(result)"
   ]
  }
 ],
 "metadata": {
  "kernelspec": {
   "display_name": ".venv",
   "language": "python",
   "name": "python3"
  },
  "language_info": {
   "codemirror_mode": {
    "name": "ipython",
    "version": 3
   },
   "file_extension": ".py",
   "mimetype": "text/x-python",
   "name": "python",
   "nbconvert_exporter": "python",
   "pygments_lexer": "ipython3",
   "version": "3.10.18"
  }
 },
 "nbformat": 4,
 "nbformat_minor": 5
}
