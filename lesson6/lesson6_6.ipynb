{
 "cells": [
  {
   "cell_type": "code",
   "execution_count": 7,
   "id": "510cc4a2",
   "metadata": {},
   "outputs": [],
   "source": [
    "# 導入必要的套件\n",
    "from langchain.prompts import ChatPromptTemplate\n",
    "from langchain.schema.output_parser import StrOutputParser\n",
    "from langchain.schema.runnable import RunnableParallel, RunnableLambda\n",
    "from langchain_ollama import ChatOllama\n",
    "\n",
    "# 建立 Ollama 模型\n",
    "\"\"\"\n",
    "ChatOllama 支援聊天提示和多輪對話，比較適合多輪交互；\n",
    "而 OllamaLLM 主要用於單輸入單輸出，較簡單的應用。\n",
    "語法和功能不同，ChatOllama 比較適合現在這種聊天場景。\n",
    "\"\"\"\n",
    "model = ChatOllama(\n",
    "    model=\"gemma3:4b\",\n",
    "    temperature=0.7\n",
    ")\n"
   ]
  },
  {
   "cell_type": "code",
   "execution_count": 8,
   "id": "badb3378",
   "metadata": {},
   "outputs": [],
   "source": [
    "# 定義主要的提示模板 - 餐廳評論分析\n",
    "prompt_template = ChatPromptTemplate.from_messages(\n",
    "    [\n",
    "        (\"system\", \"你是一個專業的餐廳評論家，擅長分析餐廳的優缺點。\"),\n",
    "        (\"human\", \"請分析這家餐廳：{restaurant_name}\"),\n",
    "    ]\n",
    ")"
   ]
  },
  {
   "cell_type": "code",
   "execution_count": 9,
   "id": "b0f754de",
   "metadata": {},
   "outputs": [],
   "source": [
    "pros_template = ChatPromptTemplate.from_messages(\n",
    "        [\n",
    "            (\"system\", \"你是一個專業的餐廳評論家，專門分析餐廳的優點。\"),\n",
    "            (\"human\", \"根據餐廳資訊：{restaurant_info}，請列出這家餐廳的優點。\"),\n",
    "        ]\n",
    "    )\n",
    "\n",
    "# 使用 LCEL 簡化分支鏈的建立\n",
    "# 優點分析分支\n",
    "pros_branch_chain = (\n",
    "    pros_template \n",
    "    | model \n",
    "    | StrOutputParser()\n",
    ")"
   ]
  },
  {
   "cell_type": "code",
   "execution_count": 10,
   "id": "6107f529",
   "metadata": {},
   "outputs": [],
   "source": [
    "cons_template = ChatPromptTemplate.from_messages(\n",
    "        [\n",
    "            (\"system\", \"你是一個專業的餐廳評論家，專門分析餐廳的缺點。\"),\n",
    "            (\"human\", \"根據餐廳資訊：{restaurant_info}，請列出這家餐廳的缺點。\"),\n",
    "        ]\n",
    "    )\n",
    "\n",
    "# 缺點分析分支\n",
    "cons_branch_chain = (\n",
    "    cons_template\n",
    "    | model\n",
    "    | StrOutputParser()\n",
    ")"
   ]
  },
  {
   "cell_type": "code",
   "execution_count": 11,
   "id": "900550c6",
   "metadata": {},
   "outputs": [],
   "source": [
    "chain = (\n",
    "    prompt_template\n",
    "    | model\n",
    "    | StrOutputParser()\n",
    "    | RunnableLambda(lambda x:{\"restaurant_info\":x})\n",
    "    | RunnableParallel(\n",
    "        pros = pros_branch_chain,\n",
    "        cons = cons_branch_chain\n",
    "    )\n",
    ")"
   ]
  },
  {
   "cell_type": "code",
   "execution_count": 12,
   "id": "bb212455",
   "metadata": {},
   "outputs": [
    {
     "data": {
      "text/plain": [
       "{'pros': '好的，請提供餐廳資訊，我會立即開始分析並列出優點。我會根據您提供的資料，盡可能詳細地評估餐廳的優點，並提供更具體的建議。 請隨時提供，我準備好了！\\n',\n",
       " 'cons': '好的，讓我來為「La Bella Luna」（意為「美麗月亮」）餐廳進行詳細的評論。\\n\\n**餐廳名稱：** La Bella Luna\\n\\n**整體評價：** La Bella Luna 位於台北市信義區，以傳統義式菜色為主，提供了一份相對優雅的用餐體驗，但其價格和服務效率方面仍有明顯的提升空間。整體而言，適合追求浪漫氛圍、願意為特殊場合或體驗加價的顧客，但若對價格敏感或對服務有較高期望，則可能稍感失望。\\n\\n**菜單內容及價格（僅供參考，實際價格可能因季節及特殊活動而異）：**\\n\\n*   **開胃菜：**\\n    *   義式烤麵包（Bruschetta） - NT$380\\n    *   魚子醬與奶油的焗烤蝦球 - NT$580\\n    *   番茄羅勒沙拉 - NT$420\\n*   **義大利麵：**\\n    *   經典義式肉醬麵（Spaghetti Bolognese） - NT$680\\n    *   海鮮義大利麵（Linguine alle Vongole） - NT$880\\n    *   奶油培根義大利麵（Spaghetti Carbonara） - NT$780\\n    *   墨魚義大利麵（Spaghetti Nero di Seppia） - NT$720\\n*   **海鮮：**\\n    *   烤魚配檸檬與香草 - NT$980\\n    *   香煎鮭魚配烤蔬菜 - NT$880\\n*   **甜點：**\\n    *   提拉米蘇 - NT$380\\n    *   義式經典芝士蛋糕 - NT$420\\n\\n**餐廳的特色：** La Bella Luna 突出的特色是其招牌的「月光魚」，一種僅在特定季節捕獲的深海魚，會以期間限定的菜色呈現。餐廳裝飾以復古的義大利海灘風格為主，有著藍白色的色調，搭配一些漁網和貝殼裝飾，營造出輕鬆愜意的氛圍。\\n\\n**用餐體驗：** 我們在週六晚上 7:30 點餐，用餐人數為四人。服務人員態度親切，但整體服務效率明顯偏慢。點餐後，等待菜餚上桌的時間超過 45 分鐘，而這四道菜都屬於義大利麵及海鮮類，通常烹飪時間不會過長。\\n\\n**缺點（詳細分析）：**\\n\\n1.  **服務效率極低：** 這是 La Bella Luna 最顯著的缺點。等待時間過長，且在等待期間，服務人員的互動非常少，缺乏主動性。我們多次嘗試引起服務人員的注意，但往往需要等待很長時間才能得到回應。這不僅影響了用餐體驗，也讓顧客感到不被重視。\\n\\n2.  **菜單價格過高，與食物品質不符：** 即使食物本身品質尚可，但價格過高，尤其是在考慮到服務效率的不足的情況下，會讓顧客覺得物價過高。例如，一份Spaghetti Bolognese的價格高達 NT$680，對於市中心餐廳來說，價格偏高。\\n\\n3.  **廚房效率問題：** 菜餚上桌時間過長，明顯反映了廚房效率的問題。可能的原因包括：廚房人員不足、流程不順暢、或烹飪時間過長。\\n\\n4.  **缺乏主動性：** 服務人員在提供餐具、補充飲品、或詢問用餐情況方面，缺乏主動性。我們必須主動要求服務，這與許多其他同等級的餐廳形成了鮮明對比。\\n\\n5. **月光魚的稀有性過於強調：** 雖然月光魚是餐廳的特色，但餐廳過度強調其稀有性，似乎並沒有將其融入菜品的烹飪方式，反而讓顧客覺得價格過高，僅僅是為了稀有性而抬高了價格。\\n\\n總結：La Bella Luna 擁有優雅的環境和一些不錯的菜餚，但其服務效率、價格和廚房效率方面仍有待提升。若能針對這些問題進行改善，相信 La Bella Luna 能夠在台北市中心市場中脫穎而出。\\n\\n---\\n\\n請告訴我，您希望我針對 La Bella Luna 的哪個方面進行更深入的分析？例如：\\n\\n*   廚房流程的可能問題？\\n*   服務人員的培訓方面？\\n*   菜單價格的合理性？'}"
      ]
     },
     "execution_count": 12,
     "metadata": {},
     "output_type": "execute_result"
    }
   ],
   "source": [
    "# 執行並行處理鏈 - 測試餐廳評論分析系統\n",
    "restaurant_info = \"\"\"\n",
    "這是一家位於台北市中心的義大利餐廳，提供傳統義式料理。\n",
    "餐廳環境優雅，服務人員親切，但價格偏高，等待時間較長。\n",
    "食物品質不錯，但份量偏少。適合約會或特殊場合用餐。\n",
    "\"\"\"\n",
    "\n",
    "result = chain.invoke({\"restaurant_name\": restaurant_info})\n",
    "\n",
    "result"
   ]
  }
 ],
 "metadata": {
  "kernelspec": {
   "display_name": ".venv",
   "language": "python",
   "name": "python3"
  },
  "language_info": {
   "codemirror_mode": {
    "name": "ipython",
    "version": 3
   },
   "file_extension": ".py",
   "mimetype": "text/x-python",
   "name": "python",
   "nbconvert_exporter": "python",
   "pygments_lexer": "ipython3",
   "version": "3.10.18"
  }
 },
 "nbformat": 4,
 "nbformat_minor": 5
}
