{
 "cells": [
  {
   "cell_type": "code",
   "execution_count": 42,
   "id": "861355eb",
   "metadata": {},
   "outputs": [],
   "source": [
    "from langchain.prompts import ChatPromptTemplate\n",
    "from langchain_ollama import OllamaLLM\n",
    "from langchain.schema.output_parser import StrOutputParser\n",
    "from langchain.schema.runnable import RunnableLambda\n",
    "\n",
    "model = OllamaLLM(model=\"gemma3:4b\")"
   ]
  },
  {
   "cell_type": "code",
   "execution_count": 43,
   "id": "f4f9ce2e",
   "metadata": {},
   "outputs": [],
   "source": [
    "prompt_template = ChatPromptTemplate.from_messages([\n",
    "    (\"system\",\"你是一個專業的客服代表，負責回復客戶郵件。請用友善和專業的語調回覆。請不要回覆(公司的資訊和結尾詞)，我會自行手動增加。\"),\n",
    "    (\"human\",\"請回覆這封客戶郵件:\\n\\n{email_content}\")\n",
    "])"
   ]
  },
  {
   "cell_type": "code",
   "execution_count": 44,
   "id": "4deefbd0",
   "metadata": {},
   "outputs": [],
   "source": [
    "def format_email_reply(ai_answer:str) -> str:\n",
    "    import datetime\n",
    "    time_format_template = \"{y}%Y-%m-%d %H:%M\"\n",
    "    current_time = datetime.datetime.now()\n",
    "    date_str = current_time.strftime(time_format_template).format(\n",
    "        y='中華民國,西元', # 用來替換 {y}\n",
    "    )\n",
    "    formatted_reply = f\"\"\"{ai_answer}\n",
    "\n",
    "感謝您的來信，如有其他問題請隨時聯繫我們。\n",
    "\n",
    "此致\n",
    "治理客服團隊\n",
    "\n",
    "回覆時間:{date_str}\n",
    "\"\"\"\n",
    "\n",
    "    return formatted_reply\n",
    "\n",
    "format_email = RunnableLambda(format_email_reply)"
   ]
  },
  {
   "cell_type": "code",
   "execution_count": 45,
   "id": "4e3d82ff",
   "metadata": {},
   "outputs": [],
   "source": [
    "chain = (prompt_template\n",
    "        | model\n",
    "        | StrOutputParser()\n",
    "        | format_email\n",
    "        )\n",
    "        "
   ]
  },
  {
   "cell_type": "code",
   "execution_count": 46,
   "id": "0c27082c",
   "metadata": {},
   "outputs": [],
   "source": [
    "customer_email = \"\"\"您好:\n",
    "我最近購買了櫃公司的產品，但是發現包裝有損壞，而且產品功能與說明書不符。\n",
    "請問可以退貨或換貨嗎?我已經購買一週了。\n",
    "\n",
    "期待您的回覆!\n",
    "\n",
    "王小明\"\"\""
   ]
  },
  {
   "cell_type": "code",
   "execution_count": 47,
   "id": "7e21c67f",
   "metadata": {},
   "outputs": [
    {
     "name": "stdout",
     "output_type": "stream",
     "text": [
      "王小明您好，\n",
      "\n",
      "非常抱歉讓您有不愉快的購物經驗。我們深感遺憾聽到您收到的產品有損壞且功能與說明書不符的情況。\n",
      "\n",
      "請您放心，我們會盡力協助您處理這件事情。請您提供更多關於產品型號、損壞情況的細節，以及說明書上的不符部分，以便我們更快速地釐清問題並提供最適合的解決方案。\n",
      "\n",
      "我們非常重視您的回饋，並會盡快為您安排處理。\n",
      "\n",
      "\n",
      "感謝您的來信，如有其他問題請隨時聯繫我們。\n",
      "\n",
      "此致\n",
      "治理客服團隊\n",
      "\n",
      "回覆時間:中華民國,西元2025-10-18 15:06\n",
      "\n"
     ]
    }
   ],
   "source": [
    "result = chain.invoke({\n",
    "    \"email_content\":customer_email\n",
    "})\n",
    "\n",
    "print(result)"
   ]
  }
 ],
 "metadata": {
  "kernelspec": {
   "display_name": ".venv",
   "language": "python",
   "name": "python3"
  },
  "language_info": {
   "codemirror_mode": {
    "name": "ipython",
    "version": 3
   },
   "file_extension": ".py",
   "mimetype": "text/x-python",
   "name": "python",
   "nbconvert_exporter": "python",
   "pygments_lexer": "ipython3",
   "version": "3.10.18"
  }
 },
 "nbformat": 4,
 "nbformat_minor": 5
}
