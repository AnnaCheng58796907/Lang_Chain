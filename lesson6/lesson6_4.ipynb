{
 "cells": [
  {
   "cell_type": "code",
   "execution_count": 5,
   "id": "861355eb",
   "metadata": {},
   "outputs": [],
   "source": [
    "from langchain.prompts import ChatPromptTemplate\n",
    "from langchain_ollama import OllamaLLM\n",
    "from langchain.schema.output_parser import StrOutputParser\n",
    "\n",
    "model = OllamaLLM(model=\"gemma3:4b\")"
   ]
  },
  {
   "cell_type": "code",
   "execution_count": 6,
   "id": "f4f9ce2e",
   "metadata": {},
   "outputs": [],
   "source": [
    "prompt_template = ChatPromptTemplate.from_messages([\n",
    "    (\"system\",\"你是一個專業的客服代表，負責回復客戶郵件。請用友善、專業的語調回覆。\"),\n",
    "    (\"human\",\"請回覆這封客戶郵件:\\n\\n{email_content}\")\n",
    "])"
   ]
  },
  {
   "cell_type": "code",
   "execution_count": 7,
   "id": "4e3d82ff",
   "metadata": {},
   "outputs": [],
   "source": [
    "chain = (prompt_template\n",
    "        | model\n",
    "        | StrOutputParser()\n",
    "        )\n",
    "        "
   ]
  },
  {
   "cell_type": "code",
   "execution_count": 8,
   "id": "0c27082c",
   "metadata": {},
   "outputs": [],
   "source": [
    "customer_email = \"\"\"您好:\n",
    "我最近購買了櫃公司的產品，但是發現包裝有損壞，而且產品功能與說明書不符。\n",
    "請問可以退貨或換貨嗎?我已經購買一週了。\n",
    "\n",
    "期待您的回覆!\n",
    "\n",
    "王小明\"\"\""
   ]
  },
  {
   "cell_type": "code",
   "execution_count": 9,
   "id": "7e21c67f",
   "metadata": {},
   "outputs": [
    {
     "name": "stdout",
     "output_type": "stream",
     "text": [
      "王小明您好，\n",
      "\n",
      "非常感謝您購買我們的櫃公司產品，並主動聯繫我們提供回饋。對於您收到產品時發現包裝損壞及功能與說明書不符的情況，我們深感抱歉。\n",
      "\n",
      "請您放心，我們會盡力協助您解決問題。 \n",
      "\n",
      "為了更快速地處理您的退貨或換貨申請，請您提供以下資訊：\n",
      "\n",
      "*   **訂單編號：** (請提供您的訂單編號，以便我們查詢)\n",
      "*   **產品名稱：** (請提供您購買的產品名稱)\n",
      "*   **損壞情況描述：** (請詳細描述包裝的損壞情況)\n",
      "*   **功能差異描述：** (請詳細描述產品功能與說明書的差異)\n",
      "*   **照片或影片：** (若有，請提供包裝損壞和功能差異的照片或影片，以便我們更精確地了解情況)\n",
      "\n",
      "請您將以上資訊回覆至此信，或透過回覆信回覆我們。我們會盡快審核您的申請，並告知您退貨或換貨的流程及相關細節。\n",
      "\n",
      "再次為您帶來不便，我們誠摯地為您道歉。\n",
      "\n",
      "感謝您的耐心與理解！\n",
      "\n",
      "敬祝\n",
      "順心！\n",
      "\n",
      "[您的公司名稱/客服團隊名稱]\n",
      "[聯絡電話/客服郵箱] \n",
      "\n"
     ]
    }
   ],
   "source": [
    "result = chain.invoke({\n",
    "    \"email_content\":customer_email\n",
    "})\n",
    "\n",
    "print(result)"
   ]
  }
 ],
 "metadata": {
  "kernelspec": {
   "display_name": ".venv",
   "language": "python",
   "name": "python3"
  },
  "language_info": {
   "codemirror_mode": {
    "name": "ipython",
    "version": 3
   },
   "file_extension": ".py",
   "mimetype": "text/x-python",
   "name": "python",
   "nbconvert_exporter": "python",
   "pygments_lexer": "ipython3",
   "version": "3.10.18"
  }
 },
 "nbformat": 4,
 "nbformat_minor": 5
}
