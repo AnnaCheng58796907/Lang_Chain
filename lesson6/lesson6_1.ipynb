{
 "cells": [
  {
   "cell_type": "code",
   "execution_count": 2,
   "id": "a09c92d2",
   "metadata": {},
   "outputs": [
    {
     "name": "stdout",
     "output_type": "stream",
     "text": [
      "好的，讓我來為您介紹人工智慧（Artificial Intelligence，簡稱 AI）。\n",
      "\n",
      "**什麼是人工智慧？**\n",
      "\n",
      "人工智慧是指讓電腦或機器像人類一樣思考、學習、解決問題和做出決策的能力。它是一個廣泛的領域，涵蓋了多個不同的技術和方法。\n",
      "\n",
      "**人工智慧的主要分支：**\n",
      "\n",
      "* **機器學習 (Machine Learning, ML)：**  這可能是目前最受關注的AI領域。它讓電腦從數據中學習，而不需要明確地被編寫規則。\n",
      "    * **監督學習 (Supervised Learning)：**  訓練模型，讓它從標記好的數據中學習，例如：預測郵箱裡是垃圾郵件還是不是。\n",
      "    * **非監督學習 (Unsupervised Learning)：**  讓模型從沒有標記的數據中發現模式和結構，例如：將顧客按照他們的購買習慣分成不同的群組。\n",
      "    * **強化學習 (Reinforcement Learning)：**  訓練模型通過與環境的互動學習，獎勵好的行為並懲罰壞的行為，例如：訓練一個機器人學習走路。\n",
      "\n",
      "* **深度學習 (Deep Learning)：**  這是機器學習的一個子集，它使用人工神經網絡（Artificial Neural Networks）來分析數據。深度學習在圖像識別、語音識別和自然語言處理等領域取得了重大突破。\n",
      "\n",
      "* **自然語言處理 (Natural Language Processing, NLP)：**  讓電腦理解和生成人類語言。例如：語音助手（Siri, Alexa）、自動翻譯、聊天機器人等。\n",
      "\n",
      "* **電腦視覺 (Computer Vision)：**  讓電腦“看懂”圖像和視頻。例如：人臉識別、自動駕駛、醫療影像診斷等。\n",
      "\n",
      "* **知識表示與推理 (Knowledge Representation and Reasoning)：**  讓電腦儲存和利用知識，並進行邏輯推理。\n",
      "\n",
      "**人工智慧的應用：**\n",
      "\n",
      "人工智慧已經滲透到我們生活的方方面面，包括：\n",
      "\n",
      "* **醫療保健：** 疾病診斷、藥物研發、個性化治療等。\n",
      "* **金融：** 風險評估、欺詐檢測、算法交易等。\n",
      "* **零售：** 推薦系統、個性化購物體驗、庫存管理等。\n",
      "* **交通運輸：** 自動駕駛汽車、智能交通管理等。\n",
      "* **娛樂：** 遊戲AI、電影特效、音樂創作等。\n",
      "* **客服：** 聊天機器人、智能客服系統等。\n",
      "\n",
      "**人工智慧的發展趨勢：**\n",
      "\n",
      "* **大語言模型 (Large Language Models, LLMs)：**  如 ChatGPT, Google Gemini 等，它們在自然語言處理領域表現出色，並開始影響其他領域。\n",
      "* **通用人工智慧 (Artificial General Intelligence, AGI)：**  目標是創造具有人類水平智能的 AI，這仍然是一個遠大的目標。\n",
      "* **可解釋人工智慧 (Explainable AI, XAI)：**  讓AI決策過程更透明，更容易理解，增加用戶的信任。\n",
      "* **邊緣人工智慧 (Edge AI)：**  將AI計算放在設備端進行，例如智能手機、自動駕駛汽車等。\n",
      "\n",
      "\n",
      "**總結：**\n",
      "\n",
      "人工智慧是一個充滿潛力的領域，它正在深刻地改變著我們的世界。雖然目前的人工智慧仍然存在一些局限性，但隨著技術的不斷發展，相信在未來會為我們帶來更多的便利和機會。\n",
      "\n",
      "---\n",
      "\n",
      "您對人工智慧還有什麼想了解的呢？ 例如：\n",
      "\n",
      "*   您想深入了解哪一個分支？\n",
      "*   您想知道人工智能的歷史嗎？\n",
      "*   您想知道人工智能的優缺點嗎？\n"
     ]
    }
   ],
   "source": [
    "from langchain.prompts import ChatPromptTemplate\n",
    "from langchain_ollama.llms import OllamaLLM\n",
    "from langchain.schema.output_parser import StrOutputParser\n",
    "\n",
    "prompt = ChatPromptTemplate.from_template(\"請介紹{topic}\")\n",
    "model = OllamaLLM(model=\"gemma3:4b\")\n",
    "output_parser = StrOutputParser()\n",
    "\n",
    "# 使用lCEL語法建立鏈\n",
    "\n",
    "chain = (prompt\n",
    "            | model\n",
    "            | output_parser)\n",
    "\n",
    "print(chain.invoke({\"topic\":\"人工智慧\"}))"
   ]
  },
  {
   "cell_type": "code",
   "execution_count": null,
   "id": "789c601c",
   "metadata": {},
   "outputs": [],
   "source": [
    "def upgrade_level1(name:str) -> str:\n",
    "    result = f\"\"\"{name}\n",
    "等級1\n",
    "\"\"\"\n",
    "    return result\n",
    "\n",
    "def upgrade_level2(input_str) -> str:\n",
    "    result = f\"\"\"{input_str}\n",
    "等級2\"\"\"\n",
    "    return result\n",
    "\n",
    "def upgrade_level3(input_str) -> str:\n",
    "    result = f\"\"\"{input_str}\n",
    "等級3\"\"\"\n",
    "    return result\n"
   ]
  },
  {
   "cell_type": "code",
   "execution_count": 12,
   "id": "25c3e5f8",
   "metadata": {},
   "outputs": [
    {
     "name": "stdout",
     "output_type": "stream",
     "text": [
      "Anna\n",
      "等級1\n",
      "\n",
      "等級2\n",
      "\n",
      "等級3\n"
     ]
    }
   ],
   "source": [
    "total = upgrade_level3(upgrade_level2(upgrade_level1(name=\"Anna\")))\n",
    "print(total)"
   ]
  },
  {
   "cell_type": "code",
   "execution_count": null,
   "id": "faea10f4",
   "metadata": {},
   "outputs": [],
   "source": []
  }
 ],
 "metadata": {
  "kernelspec": {
   "display_name": ".venv",
   "language": "python",
   "name": "python3"
  },
  "language_info": {
   "codemirror_mode": {
    "name": "ipython",
    "version": 3
   },
   "file_extension": ".py",
   "mimetype": "text/x-python",
   "name": "python",
   "nbconvert_exporter": "python",
   "pygments_lexer": "ipython3",
   "version": "3.10.18"
  }
 },
 "nbformat": 4,
 "nbformat_minor": 5
}
