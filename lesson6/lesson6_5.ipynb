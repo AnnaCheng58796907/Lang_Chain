{
 "cells": [
  {
   "cell_type": "code",
   "execution_count": 1,
   "id": "861355eb",
   "metadata": {},
   "outputs": [],
   "source": [
    "from langchain.prompts import ChatPromptTemplate\n",
    "from langchain_ollama import OllamaLLM\n",
    "from langchain.schema.output_parser import StrOutputParser\n",
    "from langchain.schema.runnable import RunnableLambda\n",
    "\n",
    "model = OllamaLLM(model=\"gemma3:4b\")"
   ]
  },
  {
   "cell_type": "code",
   "execution_count": 2,
   "id": "f4f9ce2e",
   "metadata": {},
   "outputs": [],
   "source": [
    "prompt_template = ChatPromptTemplate.from_messages([\n",
    "    (\"system\",\"你是一個專業的客服代表，負責回復客戶郵件。請用友善和專業的語調回覆。請不要回覆(公司的資訊和結尾詞)，我會自行手動增加。\"),\n",
    "    (\"human\",\"請回覆這封客戶郵件:\\n\\n{email_content}\")\n",
    "])"
   ]
  },
  {
   "cell_type": "code",
   "execution_count": 3,
   "id": "4deefbd0",
   "metadata": {},
   "outputs": [],
   "source": [
    "def format_email_reply(ai_answer:str) -> str:\n",
    "    import datetime\n",
    "    current_time = datetime.datetime.now()\n",
    "    date_str = current_time.strftime(\"{y}%Y-%m-%d %H:%M\").format(\n",
    "        y='中華民國,西元'  # 用來替換 {y}\n",
    "    )\n",
    "    formatted_reply = f\"\"\"{ai_answer}\n",
    "\n",
    "感謝您的來信，如有其他問題請隨時聯繫我們。\n",
    "\n",
    "此致\n",
    "治理客服團隊\n",
    "\n",
    "回覆時間:{date_str}\n",
    "\"\"\"\n",
    "    print(f\"ai回復的內容:{formatted_reply}\")\n",
    "    return {\"formatted_reply\":formatted_reply}\n",
    "\n",
    "format_email = RunnableLambda(format_email_reply)"
   ]
  },
  {
   "cell_type": "code",
   "execution_count": 4,
   "id": "9871e44c",
   "metadata": {},
   "outputs": [],
   "source": [
    "improve_prompt = ChatPromptTemplate.from_messages(\n",
    "    [\n",
    "        (\"system\",\"你是郵件品質專家。請評估這封郵件的專業度、友善度、完整度(1-10分)，並且提供具底的改進建議。\"),\n",
    "        (\"human\",\"評估並改進這封郵件:\\n\\n{formatted_reply}\")\n",
    "    ]\n",
    ")"
   ]
  },
  {
   "cell_type": "code",
   "execution_count": 5,
   "id": "4e3d82ff",
   "metadata": {},
   "outputs": [],
   "source": [
    "chain = (prompt_template\n",
    "        | model\n",
    "        | StrOutputParser()\n",
    "        | format_email\n",
    "        | improve_prompt\n",
    "        | model\n",
    "        | StrOutputParser()\n",
    "        )\n",
    "        "
   ]
  },
  {
   "cell_type": "code",
   "execution_count": 6,
   "id": "0c27082c",
   "metadata": {},
   "outputs": [],
   "source": [
    "customer_email = \"\"\"您好:\n",
    "我最近購買了櫃公司的產品，但是發現包裝有損壞，而且產品功能與說明書不符。\n",
    "請問可以退貨或換貨嗎?我已經購買一週了。\n",
    "\n",
    "期待您的回覆!\n",
    "\n",
    "王小明\"\"\""
   ]
  },
  {
   "cell_type": "code",
   "execution_count": 7,
   "id": "7e21c67f",
   "metadata": {},
   "outputs": [
    {
     "name": "stdout",
     "output_type": "stream",
     "text": [
      "ai回復的內容:您好王小明，\n",
      "\n",
      "非常感謝您聯繫我們，並詳細說明您遇到的狀況。我們對於您購買的櫃公司產品出現損壞及功能問題深感抱歉，也完全理解您的不滿。\n",
      "\n",
      "請您放心，我們會盡全力協助您解決這個問題。請您提供更多關於損壞情況的詳細資訊，例如損壞的具體位置、程度，以及產品功能與說明書差異的具體描述，以便我們更快速地處理您的退貨或換貨申請。\n",
      "\n",
      "我們會盡快與您聯繫，確認這些資訊後，再為您安排下一步處理流程。\n",
      "\n",
      "再次感謝您的理解與耐心。\n",
      "\n",
      "感謝您的來信，如有其他問題請隨時聯繫我們。\n",
      "\n",
      "此致\n",
      "治理客服團隊\n",
      "\n",
      "回覆時間:中華民國,西元2025-10-18 15:29\n",
      "\n",
      "好的，作為郵件品質專家，我來評估並提供改進建議：\n",
      "\n",
      "**評估結果：**\n",
      "\n",
      "*   **專業度：** 8/10 - 語句較正式，表達了歉意和承諾，但可以更精煉。\n",
      "*   **友善度：** 7/10 - 語氣溫和，但缺乏更具體的關懷，例如強調願意為客戶解決問題的決心。\n",
      "*   **完整度：** 7/10 - 提供了解決問題的步驟，但資訊要求略顯籠統，需要更明確。\n",
      "\n",
      "**具體改進建議：**\n",
      "\n",
      "1.  **更精煉開頭：**\n",
      "    *   原句： “您好王小明，非常感謝您聯繫我們，並詳細說明您遇到的狀況。”\n",
      "    *   建議： “王小明您好，感謝您聯繫我們，並提供關於櫃公司產品損壞及功能問題的詳細資訊。” (更直接、簡潔)\n",
      "\n",
      "2.  **強化關懷與同理心：**\n",
      "    *   原句： “我們對於您購買的櫃公司產品出現損壞及功能問題深感抱歉，也完全理解您的不滿。”\n",
      "    *   建議： “對於您遇到的困擾，我們深感抱歉。 知道您購買的產品出現了損壞及功能問題，一定會讓您感到非常不便，我們非常理解您的感受。” (更具體地表達對客戶的關心)\n",
      "\n",
      "3.  **明確資訊要求：**\n",
      "    *   原句： “請您提供更多關於損壞情況的詳細資訊，例如損壞的具體位置、程度，以及產品功能與說明書差異的具體描述，以便我們更快速地處理您的退貨或換貨申請。”\n",
      "    *   建議： “為了協助我們更快速地處理您的退貨/換貨申請，請您提供以下資訊：\n",
      "        *   損壞的具體位置（請提供照片或詳細描述）\n",
      "        *   損壞的程度（例如：輕微划痕、嚴重凹陷）\n",
      "        *   產品功能與說明書差異的具體描述（請詳細說明您觀察到的與說明書不符的地方）\n",
      "        *   （可選）購買憑證或照片” (提供明確的資訊列表，方便客戶提供)\n",
      "\n",
      "4.  **增加行動呼籲：**\n",
      "    *   原句： “我們會盡快與您聯繫，確認這些資訊後，再為您安排下一步處理流程。”\n",
      "    *   建議： “收到您的回覆後，我們會在 [時間範圍，例如：24小時內] 與您聯繫，確認您的資訊，並盡快為您安排下一步處理流程。” (設定明確的時程，讓客戶對處理進度有掌握)\n",
      "\n",
      "5.  **調整結尾：**\n",
      "    *   原句： “再次感謝您的理解與耐心。”\n",
      "    *   建議： “再次感謝您的理解與耐心。 如有任何疑問，請隨時與我們聯繫，我們將竭誠為您服務。” (更正式、專業的結尾)\n",
      "\n",
      "**修改後的郵件範例：**\n",
      "\n",
      "王小明您好，\n",
      "\n",
      "感謝您聯繫我們，並提供關於櫃公司產品損壞及功能問題的詳細資訊。對於您遇到的困擾，我們深感抱歉。知道您購買的產品出現了損壞及功能問題，一定會讓您感到非常不便，我們非常理解您的感受。\n",
      "\n",
      "為了協助我們更快速地處理您的退貨/換貨申請，請您提供以下資訊：\n",
      "\n",
      "*   損壞的具體位置（請提供照片或詳細描述）\n",
      "*   損壞的程度（例如：輕微划痕、嚴重凹陷）\n",
      "*   產品功能與說明書差異的具體描述（請詳細說明您觀察到的與說明書不符的地方）\n",
      "*   （可選）購買憑證或照片\n",
      "\n",
      "收到您的回覆後，我們會在 24 小時內與您聯繫，確認您的資訊，並盡快為您安排下一步處理流程。\n",
      "\n",
      "再次感謝您的理解與耐心。 如有任何疑問，請隨時與我們聯繫，我們將竭誠為您服務。\n",
      "\n",
      "此致\n",
      "治理客服團隊\n",
      "\n",
      "**總結：**\n",
      "\n",
      "透過更精煉的語言、更具體的資訊要求、明確的行動呼籲以及更親切的表達方式，可以顯著提升郵件的專業度和友善度，並讓客戶更安心、更願意配合。\n",
      "\n",
      "希望這些建議對您有幫助！\n"
     ]
    }
   ],
   "source": [
    "result = chain.invoke({\n",
    "    \"email_content\":customer_email\n",
    "})\n",
    "\n",
    "print(result)"
   ]
  }
 ],
 "metadata": {
  "kernelspec": {
   "display_name": ".venv",
   "language": "python",
   "name": "python3"
  },
  "language_info": {
   "codemirror_mode": {
    "name": "ipython",
    "version": 3
   },
   "file_extension": ".py",
   "mimetype": "text/x-python",
   "name": "python",
   "nbconvert_exporter": "python",
   "pygments_lexer": "ipython3",
   "version": "3.10.18"
  }
 },
 "nbformat": 4,
 "nbformat_minor": 5
}
